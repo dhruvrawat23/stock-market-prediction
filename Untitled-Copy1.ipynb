{
 "cells": [
  {
   "cell_type": "code",
   "execution_count": 1,
   "id": "elect-laugh",
   "metadata": {},
   "outputs": [],
   "source": [
    "import pandas as pd\n",
    "import numpy as np\n",
    "import matplotlib.pyplot as plt\n",
    "import keras\n",
    "import pandas_datareader as pdr\n",
    "import tensorflow as tf\n",
    "from sklearn.preprocessing import MinMaxScaler\n",
    "from tensorflow.keras.models import Sequential\n",
    "from tensorflow.keras.layers import Dense, LSTM\n",
    "from keras.layers import Dropout\n",
    "import math \n",
    "from datetime import date\n",
    "\n",
    "\n",
    "plt.style.use('fivethirtyeight')"
   ]
  },
  {
   "cell_type": "code",
   "execution_count": 2,
   "id": "racial-eagle",
   "metadata": {},
   "outputs": [
    {
     "data": {
      "text/html": [
       "<div>\n",
       "<style scoped>\n",
       "    .dataframe tbody tr th:only-of-type {\n",
       "        vertical-align: middle;\n",
       "    }\n",
       "\n",
       "    .dataframe tbody tr th {\n",
       "        vertical-align: top;\n",
       "    }\n",
       "\n",
       "    .dataframe thead th {\n",
       "        text-align: right;\n",
       "    }\n",
       "</style>\n",
       "<table border=\"1\" class=\"dataframe\">\n",
       "  <thead>\n",
       "    <tr style=\"text-align: right;\">\n",
       "      <th></th>\n",
       "      <th>High</th>\n",
       "      <th>Low</th>\n",
       "      <th>Open</th>\n",
       "      <th>Close</th>\n",
       "      <th>Volume</th>\n",
       "      <th>Adj Close</th>\n",
       "    </tr>\n",
       "    <tr>\n",
       "      <th>Date</th>\n",
       "      <th></th>\n",
       "      <th></th>\n",
       "      <th></th>\n",
       "      <th></th>\n",
       "      <th></th>\n",
       "      <th></th>\n",
       "    </tr>\n",
       "  </thead>\n",
       "  <tbody>\n",
       "    <tr>\n",
       "      <th>2006-01-02</th>\n",
       "      <td>9457.089844</td>\n",
       "      <td>9366.089844</td>\n",
       "      <td>9422.490234</td>\n",
       "      <td>9390.139648</td>\n",
       "      <td>14000.0</td>\n",
       "      <td>9390.139648</td>\n",
       "    </tr>\n",
       "    <tr>\n",
       "      <th>2006-01-03</th>\n",
       "      <td>9546.780273</td>\n",
       "      <td>9390.790039</td>\n",
       "      <td>9401.830078</td>\n",
       "      <td>9539.370117</td>\n",
       "      <td>13200.0</td>\n",
       "      <td>9539.370117</td>\n",
       "    </tr>\n",
       "    <tr>\n",
       "      <th>2006-01-04</th>\n",
       "      <td>9664.940430</td>\n",
       "      <td>9523.290039</td>\n",
       "      <td>9523.290039</td>\n",
       "      <td>9648.080078</td>\n",
       "      <td>21400.0</td>\n",
       "      <td>9648.080078</td>\n",
       "    </tr>\n",
       "    <tr>\n",
       "      <th>2006-01-05</th>\n",
       "      <td>9679.719727</td>\n",
       "      <td>9571.309570</td>\n",
       "      <td>9638.269531</td>\n",
       "      <td>9617.740234</td>\n",
       "      <td>19200.0</td>\n",
       "      <td>9617.740234</td>\n",
       "    </tr>\n",
       "    <tr>\n",
       "      <th>2006-01-06</th>\n",
       "      <td>9680.919922</td>\n",
       "      <td>9535.660156</td>\n",
       "      <td>9635.089844</td>\n",
       "      <td>9640.290039</td>\n",
       "      <td>16000.0</td>\n",
       "      <td>9640.290039</td>\n",
       "    </tr>\n",
       "    <tr>\n",
       "      <th>...</th>\n",
       "      <td>...</td>\n",
       "      <td>...</td>\n",
       "      <td>...</td>\n",
       "      <td>...</td>\n",
       "      <td>...</td>\n",
       "      <td>...</td>\n",
       "    </tr>\n",
       "    <tr>\n",
       "      <th>2021-04-16</th>\n",
       "      <td>49089.550781</td>\n",
       "      <td>48694.488281</td>\n",
       "      <td>48935.738281</td>\n",
       "      <td>48832.031250</td>\n",
       "      <td>11900.0</td>\n",
       "      <td>48832.031250</td>\n",
       "    </tr>\n",
       "    <tr>\n",
       "      <th>2021-04-19</th>\n",
       "      <td>48020.789062</td>\n",
       "      <td>47362.710938</td>\n",
       "      <td>47940.808594</td>\n",
       "      <td>47949.421875</td>\n",
       "      <td>10500.0</td>\n",
       "      <td>47949.421875</td>\n",
       "    </tr>\n",
       "    <tr>\n",
       "      <th>2021-04-20</th>\n",
       "      <td>48478.339844</td>\n",
       "      <td>47438.500000</td>\n",
       "      <td>48473.039062</td>\n",
       "      <td>47705.800781</td>\n",
       "      <td>11600.0</td>\n",
       "      <td>47705.800781</td>\n",
       "    </tr>\n",
       "    <tr>\n",
       "      <th>2021-04-22</th>\n",
       "      <td>48143.160156</td>\n",
       "      <td>47204.500000</td>\n",
       "      <td>47501.710938</td>\n",
       "      <td>48080.671875</td>\n",
       "      <td>15800.0</td>\n",
       "      <td>48080.671875</td>\n",
       "    </tr>\n",
       "    <tr>\n",
       "      <th>2021-04-23</th>\n",
       "      <td>48265.390625</td>\n",
       "      <td>47669.550781</td>\n",
       "      <td>47863.808594</td>\n",
       "      <td>47878.449219</td>\n",
       "      <td>11200.0</td>\n",
       "      <td>47878.449219</td>\n",
       "    </tr>\n",
       "  </tbody>\n",
       "</table>\n",
       "<p>3750 rows × 6 columns</p>\n",
       "</div>"
      ],
      "text/plain": [
       "                    High           Low          Open         Close   Volume  \\\n",
       "Date                                                                          \n",
       "2006-01-02   9457.089844   9366.089844   9422.490234   9390.139648  14000.0   \n",
       "2006-01-03   9546.780273   9390.790039   9401.830078   9539.370117  13200.0   \n",
       "2006-01-04   9664.940430   9523.290039   9523.290039   9648.080078  21400.0   \n",
       "2006-01-05   9679.719727   9571.309570   9638.269531   9617.740234  19200.0   \n",
       "2006-01-06   9680.919922   9535.660156   9635.089844   9640.290039  16000.0   \n",
       "...                  ...           ...           ...           ...      ...   \n",
       "2021-04-16  49089.550781  48694.488281  48935.738281  48832.031250  11900.0   \n",
       "2021-04-19  48020.789062  47362.710938  47940.808594  47949.421875  10500.0   \n",
       "2021-04-20  48478.339844  47438.500000  48473.039062  47705.800781  11600.0   \n",
       "2021-04-22  48143.160156  47204.500000  47501.710938  48080.671875  15800.0   \n",
       "2021-04-23  48265.390625  47669.550781  47863.808594  47878.449219  11200.0   \n",
       "\n",
       "               Adj Close  \n",
       "Date                      \n",
       "2006-01-02   9390.139648  \n",
       "2006-01-03   9539.370117  \n",
       "2006-01-04   9648.080078  \n",
       "2006-01-05   9617.740234  \n",
       "2006-01-06   9640.290039  \n",
       "...                  ...  \n",
       "2021-04-16  48832.031250  \n",
       "2021-04-19  47949.421875  \n",
       "2021-04-20  47705.800781  \n",
       "2021-04-22  48080.671875  \n",
       "2021-04-23  47878.449219  \n",
       "\n",
       "[3750 rows x 6 columns]"
      ]
     },
     "execution_count": 2,
     "metadata": {},
     "output_type": "execute_result"
    }
   ],
   "source": [
    "today = date.today()\n",
    "df= pdr.DataReader('^BSESN', data_source='yahoo', start= '2006-01-01', end = today) \n",
    "df\n"
   ]
  },
  {
   "cell_type": "code",
   "execution_count": 3,
   "id": "compatible-farmer",
   "metadata": {},
   "outputs": [
    {
     "data": {
      "text/html": [
       "<div>\n",
       "<style scoped>\n",
       "    .dataframe tbody tr th:only-of-type {\n",
       "        vertical-align: middle;\n",
       "    }\n",
       "\n",
       "    .dataframe tbody tr th {\n",
       "        vertical-align: top;\n",
       "    }\n",
       "\n",
       "    .dataframe thead th {\n",
       "        text-align: right;\n",
       "    }\n",
       "</style>\n",
       "<table border=\"1\" class=\"dataframe\">\n",
       "  <thead>\n",
       "    <tr style=\"text-align: right;\">\n",
       "      <th></th>\n",
       "      <th>High</th>\n",
       "      <th>Low</th>\n",
       "      <th>Open</th>\n",
       "      <th>Close</th>\n",
       "      <th>Volume</th>\n",
       "      <th>Adj Close</th>\n",
       "    </tr>\n",
       "    <tr>\n",
       "      <th>Date</th>\n",
       "      <th></th>\n",
       "      <th></th>\n",
       "      <th></th>\n",
       "      <th></th>\n",
       "      <th></th>\n",
       "      <th></th>\n",
       "    </tr>\n",
       "  </thead>\n",
       "  <tbody>\n",
       "    <tr>\n",
       "      <th>2021-04-16</th>\n",
       "      <td>49089.550781</td>\n",
       "      <td>48694.488281</td>\n",
       "      <td>48935.738281</td>\n",
       "      <td>48832.031250</td>\n",
       "      <td>11900.0</td>\n",
       "      <td>48832.031250</td>\n",
       "    </tr>\n",
       "    <tr>\n",
       "      <th>2021-04-19</th>\n",
       "      <td>48020.789062</td>\n",
       "      <td>47362.710938</td>\n",
       "      <td>47940.808594</td>\n",
       "      <td>47949.421875</td>\n",
       "      <td>10500.0</td>\n",
       "      <td>47949.421875</td>\n",
       "    </tr>\n",
       "    <tr>\n",
       "      <th>2021-04-20</th>\n",
       "      <td>48478.339844</td>\n",
       "      <td>47438.500000</td>\n",
       "      <td>48473.039062</td>\n",
       "      <td>47705.800781</td>\n",
       "      <td>11600.0</td>\n",
       "      <td>47705.800781</td>\n",
       "    </tr>\n",
       "    <tr>\n",
       "      <th>2021-04-22</th>\n",
       "      <td>48143.160156</td>\n",
       "      <td>47204.500000</td>\n",
       "      <td>47501.710938</td>\n",
       "      <td>48080.671875</td>\n",
       "      <td>15800.0</td>\n",
       "      <td>48080.671875</td>\n",
       "    </tr>\n",
       "    <tr>\n",
       "      <th>2021-04-23</th>\n",
       "      <td>48265.390625</td>\n",
       "      <td>47669.550781</td>\n",
       "      <td>47863.808594</td>\n",
       "      <td>47878.449219</td>\n",
       "      <td>11200.0</td>\n",
       "      <td>47878.449219</td>\n",
       "    </tr>\n",
       "  </tbody>\n",
       "</table>\n",
       "</div>"
      ],
      "text/plain": [
       "                    High           Low          Open         Close   Volume  \\\n",
       "Date                                                                          \n",
       "2021-04-16  49089.550781  48694.488281  48935.738281  48832.031250  11900.0   \n",
       "2021-04-19  48020.789062  47362.710938  47940.808594  47949.421875  10500.0   \n",
       "2021-04-20  48478.339844  47438.500000  48473.039062  47705.800781  11600.0   \n",
       "2021-04-22  48143.160156  47204.500000  47501.710938  48080.671875  15800.0   \n",
       "2021-04-23  48265.390625  47669.550781  47863.808594  47878.449219  11200.0   \n",
       "\n",
       "               Adj Close  \n",
       "Date                      \n",
       "2021-04-16  48832.031250  \n",
       "2021-04-19  47949.421875  \n",
       "2021-04-20  47705.800781  \n",
       "2021-04-22  48080.671875  \n",
       "2021-04-23  47878.449219  "
      ]
     },
     "execution_count": 3,
     "metadata": {},
     "output_type": "execute_result"
    }
   ],
   "source": [
    "df.tail()"
   ]
  },
  {
   "cell_type": "code",
   "execution_count": 4,
   "id": "random-legend",
   "metadata": {},
   "outputs": [
    {
     "data": {
      "image/png": "[encoded data removed]",
      "text/plain": [
       "<Figure size 1152x576 with 1 Axes>"
      ]
     },
     "metadata": {},
     "output_type": "display_data"
    }
   ],
   "source": [
    "plt.figure(figsize=(16,8))\n",
    "plt.title('Close Price History')\n",
    "plt.plot(df['Close'])\n",
    "plt.xlabel('Date',fontsize=18)\n",
    "plt.ylabel('Close Price INR',fontsize=18)\n",
    "plt.show()"
   ]
  },
  {
   "cell_type": "code",
   "execution_count": 5,
   "id": "subsequent-feeding",
   "metadata": {},
   "outputs": [
    {
     "data": {
      "text/plain": [
       "3000"
      ]
     },
     "execution_count": 5,
     "metadata": {},
     "output_type": "execute_result"
    }
   ],
   "source": [
    "data = df.filter(['Close'])\n",
    "df1 = data.values\n",
    "\n",
    "data_len = math.ceil(len(df1)*0.8)\n",
    "data_len"
   ]
  },
  {
   "cell_type": "code",
   "execution_count": 6,
   "id": "dietary-harvard",
   "metadata": {},
   "outputs": [
    {
     "data": {
      "text/plain": [
       "0        9390.139648\n",
       "1        9539.370117\n",
       "2        9648.080078\n",
       "3        9617.740234\n",
       "4        9640.290039\n",
       "            ...     \n",
       "3745    48832.031250\n",
       "3746    47949.421875\n",
       "3747    47705.800781\n",
       "3748    48080.671875\n",
       "3749    47878.449219\n",
       "Name: Close, Length: 3750, dtype: float64"
      ]
     },
     "execution_count": 6,
     "metadata": {},
     "output_type": "execute_result"
    }
   ],
   "source": [
    "df1=df.reset_index()['Close']\n",
    "df1"
   ]
  },
  {
   "cell_type": "code",
   "execution_count": 7,
   "id": "flush-delta",
   "metadata": {},
   "outputs": [
    {
     "name": "stdout",
     "output_type": "stream",
     "text": [
      "[[0.02795261]\n",
      " [0.0313447 ]\n",
      " [0.03381573]\n",
      " ...\n",
      " [0.89888722]\n",
      " [0.90740823]\n",
      " [0.90281161]]\n"
     ]
    }
   ],
   "source": [
    "scaler=MinMaxScaler(feature_range=(0,1))\n",
    "df1=scaler.fit_transform(np.array(df1).reshape(-1,1))\n",
    "print(df1)"
   ]
  },
  {
   "cell_type": "code",
   "execution_count": 14,
   "id": "ranking-raleigh",
   "metadata": {},
   "outputs": [
    {
     "name": "stdout",
     "output_type": "stream",
     "text": [
      "[array([0.02795261, 0.0313447 , 0.03381573, 0.03312609, 0.03363866,\n",
      "       0.03234666, 0.02920643, 0.02774214, 0.02759008, 0.02615806,\n",
      "       0.02622487, 0.02448373, 0.02930963, 0.03092623, 0.02965196,\n",
      "       0.0315845 , 0.03467177, 0.03887804, 0.03838343, 0.0399941 ,\n",
      "       0.03861596, 0.03826614, 0.03596377, 0.04136999, 0.04368533,\n",
      "       0.04283384, 0.04433745, 0.04575311, 0.04378419, 0.04438769,\n",
      "       0.04464045, 0.04138568, 0.04361758, 0.04563629, 0.04691397,\n",
      "       0.04736243, 0.04637843, 0.0482271 , 0.0502308 , 0.05466847,\n",
      "       0.05606209, 0.05534947, 0.05853017, 0.0583099 , 0.05338147,\n",
      "       0.05485191, 0.05920754, 0.06008379, 0.06003855, 0.06178927,\n",
      "       0.0613642 , 0.06320697, 0.06239072, 0.06093936, 0.06092209,\n",
      "       0.06341585, 0.06634172, 0.06650108, 0.06871617, 0.07152474,\n",
      "       0.0709092 , 0.07737376, 0.07904785, 0.08152299, 0.07794385,\n",
      "       0.07960566, 0.0726315 , 0.06993794, 0.07681276, 0.08322028,\n",
      "       0.08491166, 0.08817506, 0.08796481, 0.08534944, 0.07924721,\n",
      "       0.08587884, 0.08352599, 0.08391036, 0.09224907, 0.0943389 ,\n",
      "       0.09517788, 0.09545225, 0.09778825, 0.09895639, 0.10119579,\n",
      "       0.09717317, 0.09375678, 0.0832346 , 0.08440591, 0.092227  ,\n",
      "       0.07344296, 0.06315015, 0.05276592, 0.06051727, 0.05484305,\n",
      "       0.05696085, 0.06021198, 0.06120735, 0.05969555, 0.05087567])]\n",
      "\n",
      "[0.04343846413568553]\n",
      "\n",
      "[array([0.02795261, 0.0313447 , 0.03381573, 0.03312609, 0.03363866,\n",
      "       0.03234666, 0.02920643, 0.02774214, 0.02759008, 0.02615806,\n",
      "       0.02622487, 0.02448373, 0.02930963, 0.03092623, 0.02965196,\n",
      "       0.0315845 , 0.03467177, 0.03887804, 0.03838343, 0.0399941 ,\n",
      "       0.03861596, 0.03826614, 0.03596377, 0.04136999, 0.04368533,\n",
      "       0.04283384, 0.04433745, 0.04575311, 0.04378419, 0.04438769,\n",
      "       0.04464045, 0.04138568, 0.04361758, 0.04563629, 0.04691397,\n",
      "       0.04736243, 0.04637843, 0.0482271 , 0.0502308 , 0.05466847,\n",
      "       0.05606209, 0.05534947, 0.05853017, 0.0583099 , 0.05338147,\n",
      "       0.05485191, 0.05920754, 0.06008379, 0.06003855, 0.06178927,\n",
      "       0.0613642 , 0.06320697, 0.06239072, 0.06093936, 0.06092209,\n",
      "       0.06341585, 0.06634172, 0.06650108, 0.06871617, 0.07152474,\n",
      "       0.0709092 , 0.07737376, 0.07904785, 0.08152299, 0.07794385,\n",
      "       0.07960566, 0.0726315 , 0.06993794, 0.07681276, 0.08322028,\n",
      "       0.08491166, 0.08817506, 0.08796481, 0.08534944, 0.07924721,\n",
      "       0.08587884, 0.08352599, 0.08391036, 0.09224907, 0.0943389 ,\n",
      "       0.09517788, 0.09545225, 0.09778825, 0.09895639, 0.10119579,\n",
      "       0.09717317, 0.09375678, 0.0832346 , 0.08440591, 0.092227  ,\n",
      "       0.07344296, 0.06315015, 0.05276592, 0.06051727, 0.05484305,\n",
      "       0.05696085, 0.06021198, 0.06120735, 0.05969555, 0.05087567]), array([0.0313447 , 0.03381573, 0.03312609, 0.03363866, 0.03234666,\n",
      "       0.02920643, 0.02774214, 0.02759008, 0.02615806, 0.02622487,\n",
      "       0.02448373, 0.02930963, 0.03092623, 0.02965196, 0.0315845 ,\n",
      "       0.03467177, 0.03887804, 0.03838343, 0.0399941 , 0.03861596,\n",
      "       0.03826614, 0.03596377, 0.04136999, 0.04368533, 0.04283384,\n",
      "       0.04433745, 0.04575311, 0.04378419, 0.04438769, 0.04464045,\n",
      "       0.04138568, 0.04361758, 0.04563629, 0.04691397, 0.04736243,\n",
      "       0.04637843, 0.0482271 , 0.0502308 , 0.05466847, 0.05606209,\n",
      "       0.05534947, 0.05853017, 0.0583099 , 0.05338147, 0.05485191,\n",
      "       0.05920754, 0.06008379, 0.06003855, 0.06178927, 0.0613642 ,\n",
      "       0.06320697, 0.06239072, 0.06093936, 0.06092209, 0.06341585,\n",
      "       0.06634172, 0.06650108, 0.06871617, 0.07152474, 0.0709092 ,\n",
      "       0.07737376, 0.07904785, 0.08152299, 0.07794385, 0.07960566,\n",
      "       0.0726315 , 0.06993794, 0.07681276, 0.08322028, 0.08491166,\n",
      "       0.08817506, 0.08796481, 0.08534944, 0.07924721, 0.08587884,\n",
      "       0.08352599, 0.08391036, 0.09224907, 0.0943389 , 0.09517788,\n",
      "       0.09545225, 0.09778825, 0.09895639, 0.10119579, 0.09717317,\n",
      "       0.09375678, 0.0832346 , 0.08440591, 0.092227  , 0.07344296,\n",
      "       0.06315015, 0.05276592, 0.06051727, 0.05484305, 0.05696085,\n",
      "       0.06021198, 0.06120735, 0.05969555, 0.05087567, 0.04343846])]\n",
      "\n",
      "[0.04343846413568553, 0.05207401663036648]\n",
      "\n"
     ]
    }
   ],
   "source": [
    "train_data = df1[0: data_len , :]\n",
    "x_train = []\n",
    "y_train = []\n",
    "\n",
    "for i in range(100, len(train_data)):\n",
    "    x_train.append(train_data[i-100:i , 0])\n",
    "    y_train.append(train_data[i, 0])\n",
    "    if i<= 101:\n",
    "        print(x_train)\n",
    "        print()\n",
    "        print(y_train)\n",
    "        print()"
   ]
  },
  {
   "cell_type": "code",
   "execution_count": 9,
   "id": "inappropriate-logging",
   "metadata": {},
   "outputs": [],
   "source": [
    "x_train , y_train = np.array(x_train), np.array(y_train)"
   ]
  },
  {
   "cell_type": "code",
   "execution_count": 10,
   "id": "hidden-rainbow",
   "metadata": {},
   "outputs": [
    {
     "data": {
      "text/plain": [
       "(2900, 100, 1)"
      ]
     },
     "execution_count": 10,
     "metadata": {},
     "output_type": "execute_result"
    }
   ],
   "source": [
    "x_train = np.reshape(x_train, (x_train.shape[0], x_train.shape[1],1))\n",
    "x_train.shape"
   ]
  },
  {
   "cell_type": "code",
   "execution_count": 11,
   "id": "divided-bottle",
   "metadata": {},
   "outputs": [],
   "source": [
    "#initialisizng the model \n",
    "model= Sequential()\n",
    "\n",
    "\n",
    "model.add(LSTM(units=50,kernel_initializer='glorot_uniform',return_sequences=True,input_shape=(x_train.shape[1],1)))\n",
    "\n",
    "\n",
    "\n",
    "model.add(LSTM(units=50,kernel_initializer='glorot_uniform',return_sequences=True))\n",
    "\n",
    "\n",
    "\n",
    "model.add(LSTM(units=50,kernel_initializer='glorot_uniform',return_sequences=False))\n",
    "\n",
    "\n",
    "\n",
    "\n",
    "model.add(Dense(units=25))\n",
    "\n",
    "\n",
    "model.add(Dense(units=1))\n",
    "\n",
    "#Compiling the network\n",
    "model.compile(optimizer='adam',loss='mean_squared_error')\n"
   ]
  },
  {
   "cell_type": "code",
   "execution_count": 12,
   "id": "inner-peace",
   "metadata": {},
   "outputs": [
    {
     "name": "stdout",
     "output_type": "stream",
     "text": [
      "Epoch 1/25\n",
      "73/73 [==============================] - 4s 53ms/step - loss: 0.0060\n",
      "Epoch 2/25\n",
      "73/73 [==============================] - 4s 54ms/step - loss: 2.6109e-04\n",
      "Epoch 3/25\n",
      "73/73 [==============================] - 4s 54ms/step - loss: 2.5557e-04\n",
      "Epoch 4/25\n",
      "73/73 [==============================] - 4s 55ms/step - loss: 2.4463e-04\n",
      "Epoch 5/25\n",
      "73/73 [==============================] - 4s 55ms/step - loss: 2.4978e-04\n",
      "Epoch 6/25\n",
      "73/73 [==============================] - 4s 56ms/step - loss: 2.4000e-04\n",
      "Epoch 7/25\n",
      "73/73 [==============================] - 4s 56ms/step - loss: 2.2623e-04\n",
      "Epoch 8/25\n",
      "73/73 [==============================] - 4s 56ms/step - loss: 2.3118e-04\n",
      "Epoch 9/25\n",
      "73/73 [==============================] - 4s 55ms/step - loss: 2.1210e-04\n",
      "Epoch 10/25\n",
      "73/73 [==============================] - 4s 59ms/step - loss: 2.0639e-04\n",
      "Epoch 11/25\n",
      "73/73 [==============================] - 5s 65ms/step - loss: 1.9128e-04\n",
      "Epoch 12/25\n",
      "73/73 [==============================] - 5s 67ms/step - loss: 1.8905e-04\n",
      "Epoch 13/25\n",
      "73/73 [==============================] - 4s 60ms/step - loss: 1.8677e-04\n",
      "Epoch 14/25\n",
      "73/73 [==============================] - 4s 60ms/step - loss: 1.7600e-04\n",
      "Epoch 15/25\n",
      "73/73 [==============================] - 4s 60ms/step - loss: 1.7480e-04\n",
      "Epoch 16/25\n",
      "73/73 [==============================] - 5s 68ms/step - loss: 1.7469e-04\n",
      "Epoch 17/25\n",
      "73/73 [==============================] - 5s 73ms/step - loss: 1.5994e-04\n",
      "Epoch 18/25\n",
      "73/73 [==============================] - 5s 70ms/step - loss: 1.7979e-04\n",
      "Epoch 19/25\n",
      "73/73 [==============================] - 5s 67ms/step - loss: 1.5797e-04\n",
      "Epoch 20/25\n",
      "73/73 [==============================] - 4s 60ms/step - loss: 1.8771e-04\n",
      "Epoch 21/25\n",
      "73/73 [==============================] - 4s 60ms/step - loss: 1.4779e-04\n",
      "Epoch 22/25\n",
      "73/73 [==============================] - 5s 63ms/step - loss: 1.3281e-04\n",
      "Epoch 23/25\n",
      "73/73 [==============================] - 4s 60ms/step - loss: 1.3319e-04\n",
      "Epoch 24/25\n",
      "73/73 [==============================] - 4s 60ms/step - loss: 1.3198e-04\n",
      "Epoch 25/25\n",
      "73/73 [==============================] - 4s 60ms/step - loss: 1.3523e-04\n"
     ]
    },
    {
     "data": {
      "text/plain": [
       "<tensorflow.python.keras.callbacks.History at 0x1e41acbb8b0>"
      ]
     },
     "execution_count": 12,
     "metadata": {},
     "output_type": "execute_result"
    }
   ],
   "source": [
    "model.fit(x_train,y_train,epochs=25,batch_size=40)"
   ]
  },
  {
   "cell_type": "code",
   "execution_count": 15,
   "id": "blessed-semiconductor",
   "metadata": {},
   "outputs": [],
   "source": [
    "test_data = df1[data_len -100: , :]\n",
    "\n",
    "x_test = []\n",
    "y_test = df1[data_len: , :]\n",
    "for i in range(100, len(test_data)):\n",
    "    x_test.append(test_data[i-100:i, 0])"
   ]
  },
  {
   "cell_type": "code",
   "execution_count": 16,
   "id": "hungry-catholic",
   "metadata": {},
   "outputs": [],
   "source": [
    "x_test = np.array(x_test)\n",
    "x_test = np.reshape(x_test,(x_test.shape[0], x_test.shape[1],1))"
   ]
  },
  {
   "cell_type": "code",
   "execution_count": 17,
   "id": "encouraging-democrat",
   "metadata": {},
   "outputs": [],
   "source": [
    "prediction = model.predict(x_test)\n",
    "prediction = scaler.inverse_transform(prediction)"
   ]
  },
  {
   "cell_type": "code",
   "execution_count": 18,
   "id": "native-request",
   "metadata": {},
   "outputs": [
    {
     "data": {
      "text/plain": [
       "38408.67113828394"
      ]
     },
     "execution_count": 18,
     "metadata": {},
     "output_type": "execute_result"
    }
   ],
   "source": [
    "rmse = np.sqrt(((prediction - y_test) ** 2).mean())\n",
    "rmse"
   ]
  },
  {
   "cell_type": "code",
   "execution_count": 19,
   "id": "adverse-explosion",
   "metadata": {},
   "outputs": [
    {
     "name": "stderr",
     "output_type": "stream",
     "text": [
      "<ipython-input-19-b64332ded666>:4: SettingWithCopyWarning: \n",
      "A value is trying to be set on a copy of a slice from a DataFrame.\n",
      "Try using .loc[row_indexer,col_indexer] = value instead\n",
      "\n",
      "See the caveats in the documentation: https://pandas.pydata.org/pandas-docs/stable/user_guide/indexing.html#returning-a-view-versus-a-copy\n",
      "  valid['prediction']= prediction\n"
     ]
    },
    {
     "data": {
      "image/png": "[encoded data removed]",
      "text/plain": [
       "<Figure size 1152x576 with 1 Axes>"
      ]
     },
     "metadata": {},
     "output_type": "display_data"
    }
   ],
   "source": [
    "### Plotting \n",
    "train = data[:data_len]\n",
    "valid = data[data_len:]\n",
    "valid['prediction']= prediction\n",
    "\n",
    "##visualizing\n",
    "plt.figure(figsize=(16,8))\n",
    "plt.title('Model')\n",
    "plt.xlabel('Date',fontsize=18)\n",
    "plt.ylabel('Close Price INR',fontsize=18)\n",
    "plt.plot(train['Close'])\n",
    "plt.plot(valid[['Close','prediction']])\n",
    "plt.legend(['train','val','prediction'], loc= 'lower right')\n",
    "plt.show()"
   ]
  },
  {
   "cell_type": "code",
   "execution_count": 19,
   "id": "continuous-metabolism",
   "metadata": {},
   "outputs": [
    {
     "ename": "NameError",
     "evalue": "name 'valid' is not defined",
     "output_type": "error",
     "traceback": [
      "\u001b[1;31m---------------------------------------------------------------------------\u001b[0m",
      "\u001b[1;31mNameError\u001b[0m                                 Traceback (most recent call last)",
      "\u001b[1;32m<ipython-input-19-0b02ceba8652>\u001b[0m in \u001b[0;36m<module>\u001b[1;34m\u001b[0m\n\u001b[1;32m----> 1\u001b[1;33m \u001b[0mvalid\u001b[0m\u001b[1;33m\u001b[0m\u001b[1;33m\u001b[0m\u001b[0m\n\u001b[0m",
      "\u001b[1;31mNameError\u001b[0m: name 'valid' is not defined"
     ]
    }
   ],
   "source": [
    "valid"
   ]
  },
  {
   "cell_type": "code",
   "execution_count": null,
   "id": "bulgarian-variable",
   "metadata": {},
   "outputs": [],
   "source": []
  }
 ],
 "metadata": {
  "kernelspec": {
   "display_name": "Python 3",
   "language": "python",
   "name": "python3"
  },
  "language_info": {
   "codemirror_mode": {
    "name": "ipython",
    "version": 3
   },
   "file_extension": ".py",
   "mimetype": "text/x-python",
   "name": "python",
   "nbconvert_exporter": "python",
   "pygments_lexer": "ipython3",
   "version": "3.8.8"
  }
 },
 "nbformat": 4,
 "nbformat_minor": 5
}
